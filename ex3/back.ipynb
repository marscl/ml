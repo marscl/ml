{
 "cells": [
  {
   "cell_type": "code",
   "execution_count": null,
   "metadata": {},
   "outputs": [],
   "source": [
    "from numpy import *\n",
    "import matplotlib.pyplot as plt\n",
    "from scipy.io import loadmat"
   ]
  },
  {
   "cell_type": "code",
   "execution_count": null,
   "metadata": {},
   "outputs": [],
   "source": [
    "data=loadmat('ex3data1.mat')"
   ]
  },
  {
   "cell_type": "code",
   "execution_count": null,
   "metadata": {},
   "outputs": [],
   "source": [
    "data"
   ]
  },
  {
   "cell_type": "code",
   "execution_count": null,
   "metadata": {},
   "outputs": [],
   "source": [
    "theta=zeros(400)\n",
    "data['X'].shape,data['y'].shape,mat(theta).shape"
   ]
  },
  {
   "cell_type": "code",
   "execution_count": null,
   "metadata": {},
   "outputs": [],
   "source": [
    "def sigmoid(z):\n",
    "    return 1.0/(1+exp(-z))"
   ]
  },
  {
   "cell_type": "code",
   "execution_count": null,
   "metadata": {},
   "outputs": [],
   "source": [
    "def cost(theta,X,y,rate):\n",
    "    theta=mat(theta)\n",
    "    X=mat(X)\n",
    "    y=mat(y)\n",
    "    first=multiply(-y,log(sigmoid(X*theta.T)))\n",
    "    second=multiply(1-y,log(1-sigmoid(X*theta.T)))\n",
    "    reg=rate/(2*len(X))*sum(power(theta[:1:],2))\n",
    "    return sum(first-second)/len(X)+reg"
   ]
  },
  {
   "cell_type": "code",
   "execution_count": null,
   "metadata": {},
   "outputs": [],
   "source": [
    "def gradient(theta,X,y,rate):\n",
    "    theta=mat(theta)\n",
    "    X=mat(X)\n",
    "    y=mat(y)\n",
    "    \n",
    "    error=sigmoid(X*theta.T)-y\n",
    "    grad=((X.T*error)/len(X)).T+rate/len(X)*theta\n",
    "    \n",
    "    grad[0,0]=sum(multiply(error,X[:,0]))/len(X)\n",
    "    return array(grad).ravel()"
   ]
  },
  {
   "cell_type": "code",
   "execution_count": null,
   "metadata": {},
   "outputs": [],
   "source": [
    "cost(theta,data['X'],data['y'],1)"
   ]
  },
  {
   "cell_type": "code",
   "execution_count": null,
   "metadata": {},
   "outputs": [],
   "source": [
    "gradient(theta,data['X'],data['y'],1)"
   ]
  },
  {
   "cell_type": "code",
   "execution_count": null,
   "metadata": {},
   "outputs": [],
   "source": [
    "from scipy.optimize import minimize\n",
    "\n",
    "def one_vs_all(X,y,num_labels,rate):\n",
    "    rows=X.shape[0]\n",
    "    params=X.shape[1]\n",
    "    \n",
    "    all_theta=np.zeros((num_labels),params+1)\n",
    "    X=insert(X,0,1,axis=1)\n",
    "    \n",
    "    for i in range(1,num_labels+1):\n",
    "        theta=zeros(params+1)\n",
    "        y_i=array([1 if label==i else 0 for label in y])\n",
    "        y_i=reshape(y_i,(row,1))\n",
    "        \n",
    "        fmin=minimize(fun=cost,x0=theta,args=(X,y_i,rate, method='TNC', jac=gradient))\n",
    "        all_theta[i-1,:]=fmin.x\n",
    "        "
   ]
  },
  {
   "cell_type": "code",
   "execution_count": null,
   "metadata": {},
   "outputs": [],
   "source": [
    "unique(data['y'])"
   ]
  },
  {
   "cell_type": "code",
   "execution_count": null,
   "metadata": {},
   "outputs": [],
   "source": [
    "one_vs_all(data['X'],data['y'],10,1)"
   ]
  }
 ],
 "metadata": {
  "kernelspec": {
   "display_name": "Python 3",
   "language": "python",
   "name": "python3"
  },
  "language_info": {
   "codemirror_mode": {
    "name": "ipython",
    "version": 3
   },
   "file_extension": ".py",
   "mimetype": "text/x-python",
   "name": "python",
   "nbconvert_exporter": "python",
   "pygments_lexer": "ipython3",
   "version": "3.7.3"
  }
 },
 "nbformat": 4,
 "nbformat_minor": 2
}
