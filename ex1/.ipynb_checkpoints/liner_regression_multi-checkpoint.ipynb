{
 "cells": [
  {
   "cell_type": "code",
   "execution_count": 71,
   "metadata": {},
   "outputs": [],
   "source": [
    "from numpy import *\n",
    "import matplotlib.pyplot as plt\n",
    "from sklearn import linear_model"
   ]
  },
  {
   "cell_type": "code",
   "execution_count": 72,
   "metadata": {},
   "outputs": [],
   "source": [
    "def loadData(filename):\n",
    "    dataMat=[]\n",
    "    labelMat=[]\n",
    "    numFeat=len(open(filename).readline().strip().split(','))-1\n",
    "    fr=open(filename)\n",
    "    for line in fr.readlines():\n",
    "        arr=line.strip().split(',')\n",
    "        vec=[1]\n",
    "        for k in range(numFeat):\n",
    "            vec.append(float(arr[k]))\n",
    "        dataMat.append(vec)\n",
    "        labelMat.append(float(arr[-1]))\n",
    "    return dataMat,labelMat\n",
    "        "
   ]
  },
  {
   "cell_type": "code",
   "execution_count": 75,
   "metadata": {
    "scrolled": false
   },
   "outputs": [],
   "source": [
    "dataset,labels=loadData('ex1data2.txt')\n",
    "dataMat=mat(dataset)\n",
    "labelMat=mat(labels).T\n",
    "theta=zeros((1,3))"
   ]
  },
  {
   "cell_type": "code",
   "execution_count": 46,
   "metadata": {},
   "outputs": [],
   "source": [
    "def computeCost(X,y,theta):\n",
    "    inner=power(X*theta.T-y,2)\n",
    "    return sum(inner)/(2*len(X))"
   ]
  },
  {
   "cell_type": "code",
   "execution_count": 51,
   "metadata": {},
   "outputs": [],
   "source": [
    "dataMat.shape,theta.shape,labelMat.shape\n",
    "\n",
    "dataMat[:,1:]=(dataMat[:,1:]-(dataMat[:,1:].mean(axis=0)))/(dataMat[:,1:].std(axis=0))\n",
    "labelMat=(labelMat-(labelMat.mean(axis=0)))/(labelMat.std(axis=0))"
   ]
  },
  {
   "cell_type": "code",
   "execution_count": 52,
   "metadata": {},
   "outputs": [
    {
     "data": {
      "text/plain": [
       "0.5"
      ]
     },
     "execution_count": 52,
     "metadata": {},
     "output_type": "execute_result"
    }
   ],
   "source": [
    "computeCost(dataMat,labelMat,theta)"
   ]
  },
  {
   "cell_type": "code",
   "execution_count": 53,
   "metadata": {},
   "outputs": [],
   "source": [
    "def gradientDecent(X,y,theta,alpha,iters):\n",
    "    temp=zeros((1,theta.shape[1]))\n",
    "    parameters=theta.shape[1]\n",
    "    costs=zeros(iters)\n",
    "    \n",
    "    for i in range(iters):\n",
    "        error=X*theta.T-y\n",
    "        \n",
    "        for j in range(parameters):\n",
    "            t=multiply(error,X[:,j])\n",
    "            temp[0,j]=theta[0,j]-(alpha/len(X))*sum(t)\n",
    "        \n",
    "        theta=temp\n",
    "        costs[i]=computeCost(X,y,theta)\n",
    "    return theta,costs\n",
    "            "
   ]
  },
  {
   "cell_type": "code",
   "execution_count": 56,
   "metadata": {},
   "outputs": [],
   "source": [
    "theta,costs=gradientDecent(dataMat,labelMat,theta,0.01,1000)"
   ]
  },
  {
   "cell_type": "code",
   "execution_count": 57,
   "metadata": {},
   "outputs": [
    {
     "data": {
      "text/plain": [
       "0.13352749101121747"
      ]
     },
     "execution_count": 57,
     "metadata": {},
     "output_type": "execute_result"
    }
   ],
   "source": [
    "computeCost(dataMat,labelMat,theta)"
   ]
  },
  {
   "cell_type": "code",
   "execution_count": 58,
   "metadata": {},
   "outputs": [],
   "source": [
    "x=linspace(dataMat[:,1].min(),dataMat[:,1].max(),100)\n",
    "f=theta[0,0]+theta[0,1]*x\n"
   ]
  },
  {
   "cell_type": "code",
   "execution_count": 60,
   "metadata": {},
   "outputs": [
    {
     "data": {
      "image/png": "[encoded data removed]",
      "text/plain": [
       "<Figure size 432x288 with 1 Axes>"
      ]
     },
     "metadata": {
      "needs_background": "light"
     },
     "output_type": "display_data"
    }
   ],
   "source": [
    "plt.plot(arange(1000),costs,'g')\n",
    "plt.show()"
   ]
  },
  {
   "cell_type": "code",
   "execution_count": null,
   "metadata": {},
   "outputs": [],
   "source": []
  }
 ],
 "metadata": {
  "kernelspec": {
   "display_name": "Python 3",
   "language": "python",
   "name": "python3"
  },
  "language_info": {
   "codemirror_mode": {
    "name": "ipython",
    "version": 3
   },
   "file_extension": ".py",
   "mimetype": "text/x-python",
   "name": "python",
   "nbconvert_exporter": "python",
   "pygments_lexer": "ipython3",
   "version": "3.7.3"
  }
 },
 "nbformat": 4,
 "nbformat_minor": 2
}
